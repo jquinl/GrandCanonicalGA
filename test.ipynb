{
 "cells": [
  {
   "cell_type": "code",
   "execution_count": 1,
   "id": "c0650baa-dcc9-4baa-831c-7c288bb3ed5a",
   "metadata": {},
   "outputs": [
    {
     "name": "stdout",
     "output_type": "stream",
     "text": [
      "['PtO1', 'PtO2', 'PtO3']\n",
      "PtO1\n",
      "PtO2\n",
      "PtO3\n"
     ]
    },
    {
     "data": {
      "text/plain": [
       "<Popen: returncode: None args: ['/home/jon/.miniconda/envs/ase/bin/python3.9...>"
      ]
     },
     "execution_count": 1,
     "metadata": {},
     "output_type": "execute_result"
    }
   ],
   "source": [
    "from CandidateGenerator import CandidateGenerator as CG\n",
    "\"Import necessary to fix atoms in the slab\"\n",
    "from ase.constraints import FixAtoms\n",
    "from ase import Atoms\n",
    "from generate_ceo2 import create_ceo2_111 as ceo2Slab\n",
    "import numpy as np\n",
    "from ase.visualize import view\n",
    "from ase.ga.data import DataConnection\n",
    "\n",
    "\n",
    "\"Generate static part of the system\"\n",
    "slab = ceo2Slab(number_of_layers=1,repetitions = (5,5,1),vacuum=12.0)\n",
    "c = FixAtoms(indices=np.arange(len(slab)))\n",
    "slab.set_constraint(c)\n",
    "\"If slab atoms arent fixed they will be generated  for all structures, but will be relaxed\"\n",
    "\n",
    "atoms_array = ['PtO1','PtO2','PtO3']\n",
    "#atoms_array = [Atoms('PtO1'),Atoms('Pt1O2'),Atoms('Pt1O3')]\n",
    "#atoms_array = [[78]*2+[8]*1,[78,8,8],[78,8,8,8]]\n",
    "print(atoms_array)\n",
    "for atoms in atoms_array:\n",
    "    print(atoms)\n",
    "\n",
    "\n",
    "candidateGenerator = CG(slab, atoms_array)\n",
    "\n",
    "view(candidateGenerator.get_candidate_by_position(0))\n",
    "\n",
    "view(candidateGenerator.get_candidate_by_position(1))\n",
    "\n",
    "view(candidateGenerator.get_candidate_by_position(2))\n",
    "\"----------------------------------------------AlgoStarts-------------------------------------------------\"\n",
    "da = DataConnection('gadb.db')\n",
    "\n"
   ]
  },
  {
   "cell_type": "code",
   "execution_count": null,
   "id": "abb609aa-ce51-4fd8-9e80-2ab5fd3c055c",
   "metadata": {},
   "outputs": [],
   "source": []
  },
  {
   "cell_type": "code",
   "execution_count": null,
   "id": "c13c716e-ade0-4e82-a568-d2e235efa926",
   "metadata": {},
   "outputs": [],
   "source": []
  }
 ],
 "metadata": {
  "kernelspec": {
   "display_name": "Python 3 (ipykernel)",
   "language": "python",
   "name": "python3"
  },
  "language_info": {
   "codemirror_mode": {
    "name": "ipython",
    "version": 3
   },
   "file_extension": ".py",
   "mimetype": "text/x-python",
   "name": "python",
   "nbconvert_exporter": "python",
   "pygments_lexer": "ipython3",
   "version": "3.9.7"
  }
 },
 "nbformat": 4,
 "nbformat_minor": 5
}
